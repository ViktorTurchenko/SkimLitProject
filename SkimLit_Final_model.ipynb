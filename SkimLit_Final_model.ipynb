{
  "cells": [
    {
      "cell_type": "markdown",
      "metadata": {
        "id": "view-in-github",
        "colab_type": "text"
      },
      "source": [
        "<a href=\"https://colab.research.google.com/github/ViktorTurchenko/SkimLitProject/blob/main/SkimLit_Final_model.ipynb\" target=\"_parent\"><img src=\"https://colab.research.google.com/assets/colab-badge.svg\" alt=\"Open In Colab\"/></a>"
      ]
    },
    {
      "cell_type": "markdown",
      "metadata": {
        "id": "zGIrg032FBoX"
      },
      "source": [
        "# SkimLit project: Classify scientific paper abstracts into groups of text to simplify reading"
      ]
    },
    {
      "cell_type": "markdown",
      "metadata": {
        "id": "JUua9iwiFnex"
      },
      "source": [
        "## Part 1: Import data and dependecies"
      ]
    },
    {
      "cell_type": "code",
      "source": [
        "from google.colab import drive\n",
        "drive.mount('/content/drive')"
      ],
      "metadata": {
        "colab": {
          "base_uri": "https://localhost:8080/"
        },
        "id": "p7oitZo4Ejyk",
        "outputId": "cf8155bf-1fa2-4bb4-d3d3-feb78d4357e7"
      },
      "execution_count": null,
      "outputs": [
        {
          "output_type": "stream",
          "name": "stdout",
          "text": [
            "Mounted at /content/drive\n"
          ]
        }
      ]
    },
    {
      "cell_type": "code",
      "execution_count": null,
      "metadata": {
        "id": "L7bcFpujE49w"
      },
      "outputs": [],
      "source": [
        "# Import libraries\n",
        "import os\n",
        "import pandas as pd\n",
        "import numpy as np\n",
        "import tensorflow as tf\n",
        "from tensorflow.keras import layers"
      ]
    },
    {
      "cell_type": "code",
      "execution_count": null,
      "metadata": {
        "colab": {
          "base_uri": "https://localhost:8080/",
          "height": 36
        },
        "id": "3RfnGUisnc37",
        "outputId": "1c80eb11-532b-4d52-8a83-0305115fe486"
      },
      "outputs": [
        {
          "output_type": "execute_result",
          "data": {
            "text/plain": [
              "'2.9.2'"
            ],
            "application/vnd.google.colaboratory.intrinsic+json": {
              "type": "string"
            }
          },
          "metadata": {},
          "execution_count": 2
        }
      ],
      "source": [
        "# Confirm access to a GPU\n",
        "tf.__version__"
      ]
    },
    {
      "cell_type": "code",
      "execution_count": null,
      "metadata": {
        "colab": {
          "base_uri": "https://localhost:8080/"
        },
        "id": "DbWZ0DgUni-y",
        "outputId": "e17b6833-a207-4d58-cb4a-a234505eec9d"
      },
      "outputs": [
        {
          "output_type": "stream",
          "name": "stdout",
          "text": [
            "Cloning into 'pubmed-rct'...\n",
            "remote: Enumerating objects: 33, done.\u001b[K\n",
            "remote: Counting objects: 100% (8/8), done.\u001b[K\n",
            "remote: Compressing objects: 100% (3/3), done.\u001b[K\n",
            "remote: Total 33 (delta 5), reused 5 (delta 5), pack-reused 25\u001b[K\n",
            "Unpacking objects: 100% (33/33), 177.08 MiB | 11.73 MiB/s, done.\n",
            "PubMed_200k_RCT\n",
            "PubMed_200k_RCT_numbers_replaced_with_at_sign\n",
            "PubMed_20k_RCT\n",
            "PubMed_20k_RCT_numbers_replaced_with_at_sign\n",
            "README.md\n"
          ]
        }
      ],
      "source": [
        "# Get data\n",
        "!git clone https://github.com/Franck-Dernoncourt/pubmed-rct\n",
        "!dir pubmed-rct"
      ]
    },
    {
      "cell_type": "code",
      "execution_count": null,
      "metadata": {
        "colab": {
          "base_uri": "https://localhost:8080/"
        },
        "id": "CARQwliworF2",
        "outputId": "2ee69e3d-7d94-49f6-8cbd-7a75185ff7c7"
      },
      "outputs": [
        {
          "output_type": "stream",
          "name": "stdout",
          "text": [
            "dir: cannot access 'pubmed-rct/PubMed_20k_RCT_numbers_replaced_with_at_sign/': No such file or directory\n",
            "pubmed-rct/PubMed_20k_RCT_numbers_replaced_with_at_sign/\n"
          ]
        }
      ],
      "source": [
        "# Check what files are in the PubMed_20k datset\n",
        "!dir pubmed-rct/PubMed_20k_RCT_numbers_replaced_with_at_sign/\n",
        "# Prepare path to file\n",
        "data_dir  = \"pubmed-rct/PubMed_20k_RCT_numbers_replaced_with_at_sign/\"\n",
        "print(data_dir)"
      ]
    },
    {
      "cell_type": "code",
      "execution_count": 6,
      "metadata": {
        "id": "o8WdJS-eouiD"
      },
      "outputs": [],
      "source": [
        "# Unzip the data\n",
        "import zipfile\n",
        "with zipfile.ZipFile(\"pubmed-rct/PubMed_200k_RCT_numbers_replaced_with_at_sign/train.zip\",\"r\") as zip_ref:\n",
        "    zip_ref.extractall(\"pubmed-rct/PubMed_200k_RCT_numbers_replaced_with_at_sign/\")"
      ]
    },
    {
      "cell_type": "markdown",
      "metadata": {
        "id": "A10mcoHypc3K"
      },
      "source": [
        "## Part 2: Preprocess the data"
      ]
    },
    {
      "cell_type": "markdown",
      "source": [
        "### Import file and read the lines"
      ],
      "metadata": {
        "id": "sBu50KTgOwXK"
      }
    },
    {
      "cell_type": "code",
      "execution_count": 7,
      "metadata": {
        "id": "FcM2OfRJp3y5"
      },
      "outputs": [],
      "source": [
        "# Create a function to read the lines from a document\n",
        "def get_lines(filename):\n",
        "    \"\"\"\n",
        "    Read filename and returns the lines of text as a list.\n",
        "\n",
        "    Args:\n",
        "        filename: a string containing the target filepath\n",
        "    \"\"\"\n",
        "    with open(filename, \"r\") as f:\n",
        "        return f.readlines()"
      ]
    },
    {
      "cell_type": "code",
      "execution_count": 8,
      "metadata": {
        "id": "Nr3CjSUup7-1"
      },
      "outputs": [],
      "source": [
        "# Function that extracts data from text\n",
        "def preprocess_text_with_line_numbers(filename):\n",
        "    \"\"\"\n",
        "    Returns a list of dictionaries of abstract line data containing .\n",
        "    \"\"\"\n",
        "    input_lines = get_lines(filename=filename)\n",
        "    abstract_lines = \"\"\n",
        "    abstract_samples = []\n",
        "    # loop through each line in the target file\n",
        "    for line in input_lines:\n",
        "        if line.startswith('###'):\n",
        "            abstract_id = line\n",
        "            abstract_lines = \"\"\n",
        "        elif line.isspace():\n",
        "            abstact_line_split = abstract_lines.splitlines()\n",
        "            for abstract_line_number, abstract_line in enumerate(abstact_line_split):\n",
        "                line_data = {}\n",
        "                target_text_split = abstract_line.split(\"\\t\")\n",
        "                line_data[\"target\"] = target_text_split[0]\n",
        "                line_data[\"text\"] = target_text_split[1].lower()\n",
        "                line_data[\"line_number\"] = abstract_line_number\n",
        "                line_data[\"total_lines\"] = len(abstact_line_split) - 1\n",
        "                abstract_samples.append(line_data)\n",
        "        else:\n",
        "            abstract_lines += line \n",
        "    \n",
        "    return abstract_samples"
      ]
    },
    {
      "cell_type": "code",
      "execution_count": 9,
      "metadata": {
        "colab": {
          "base_uri": "https://localhost:8080/"
        },
        "id": "8slv5bXeqonK",
        "outputId": "87309839-fd6b-4b3b-f230-9a17df693ed0"
      },
      "outputs": [
        {
          "output_type": "execute_result",
          "data": {
            "text/plain": [
              "(180040, 30212, 30135)"
            ]
          },
          "metadata": {},
          "execution_count": 9
        }
      ],
      "source": [
        "# Get data from file and preprocess it\n",
        "\n",
        "train_samples = preprocess_text_with_line_numbers(data_dir + \"train.txt\")\n",
        "val_samples = preprocess_text_with_line_numbers(data_dir + \"dev.txt\")\n",
        "test_samples = preprocess_text_with_line_numbers(data_dir + \"test.txt\")\n",
        "len(train_samples), len(val_samples), len(test_samples)"
      ]
    },
    {
      "cell_type": "code",
      "execution_count": 10,
      "metadata": {
        "colab": {
          "base_uri": "https://localhost:8080/",
          "height": 0
        },
        "id": "AEeCYE2trivf",
        "outputId": "38172e0c-057b-4030-e9ba-2dc0998cc808"
      },
      "outputs": [
        {
          "output_type": "execute_result",
          "data": {
            "text/plain": [
              "         target                                               text  \\\n",
              "0     OBJECTIVE  to investigate the efficacy of @ weeks of dail...   \n",
              "1       METHODS  a total of @ patients with primary knee oa wer...   \n",
              "2       METHODS  outcome measures included pain reduction and i...   \n",
              "3       METHODS  pain was assessed using the visual analog pain...   \n",
              "4       METHODS  secondary outcome measures included the wester...   \n",
              "5       METHODS  serum levels of interleukin @ ( il-@ ) , il-@ ...   \n",
              "6       RESULTS  there was a clinically relevant reduction in t...   \n",
              "7       RESULTS  the mean difference between treatment arms ( @...   \n",
              "8       RESULTS  further , there was a clinically relevant redu...   \n",
              "9       RESULTS  these differences remained significant at @ we...   \n",
              "10      RESULTS  the outcome measures in rheumatology clinical ...   \n",
              "11  CONCLUSIONS  low-dose oral prednisolone had both a short-te...   \n",
              "12   BACKGROUND  emotional eating is associated with overeating...   \n",
              "13   BACKGROUND  yet , empirical evidence for individual ( trai...   \n",
              "\n",
              "    line_number  total_lines  \n",
              "0             0           11  \n",
              "1             1           11  \n",
              "2             2           11  \n",
              "3             3           11  \n",
              "4             4           11  \n",
              "5             5           11  \n",
              "6             6           11  \n",
              "7             7           11  \n",
              "8             8           11  \n",
              "9             9           11  \n",
              "10           10           11  \n",
              "11           11           11  \n",
              "12            0           10  \n",
              "13            1           10  "
            ],
            "text/html": [
              "\n",
              "  <div id=\"df-b6aa657b-0ced-40e4-8595-7615266cb98f\">\n",
              "    <div class=\"colab-df-container\">\n",
              "      <div>\n",
              "<style scoped>\n",
              "    .dataframe tbody tr th:only-of-type {\n",
              "        vertical-align: middle;\n",
              "    }\n",
              "\n",
              "    .dataframe tbody tr th {\n",
              "        vertical-align: top;\n",
              "    }\n",
              "\n",
              "    .dataframe thead th {\n",
              "        text-align: right;\n",
              "    }\n",
              "</style>\n",
              "<table border=\"1\" class=\"dataframe\">\n",
              "  <thead>\n",
              "    <tr style=\"text-align: right;\">\n",
              "      <th></th>\n",
              "      <th>target</th>\n",
              "      <th>text</th>\n",
              "      <th>line_number</th>\n",
              "      <th>total_lines</th>\n",
              "    </tr>\n",
              "  </thead>\n",
              "  <tbody>\n",
              "    <tr>\n",
              "      <th>0</th>\n",
              "      <td>OBJECTIVE</td>\n",
              "      <td>to investigate the efficacy of @ weeks of dail...</td>\n",
              "      <td>0</td>\n",
              "      <td>11</td>\n",
              "    </tr>\n",
              "    <tr>\n",
              "      <th>1</th>\n",
              "      <td>METHODS</td>\n",
              "      <td>a total of @ patients with primary knee oa wer...</td>\n",
              "      <td>1</td>\n",
              "      <td>11</td>\n",
              "    </tr>\n",
              "    <tr>\n",
              "      <th>2</th>\n",
              "      <td>METHODS</td>\n",
              "      <td>outcome measures included pain reduction and i...</td>\n",
              "      <td>2</td>\n",
              "      <td>11</td>\n",
              "    </tr>\n",
              "    <tr>\n",
              "      <th>3</th>\n",
              "      <td>METHODS</td>\n",
              "      <td>pain was assessed using the visual analog pain...</td>\n",
              "      <td>3</td>\n",
              "      <td>11</td>\n",
              "    </tr>\n",
              "    <tr>\n",
              "      <th>4</th>\n",
              "      <td>METHODS</td>\n",
              "      <td>secondary outcome measures included the wester...</td>\n",
              "      <td>4</td>\n",
              "      <td>11</td>\n",
              "    </tr>\n",
              "    <tr>\n",
              "      <th>5</th>\n",
              "      <td>METHODS</td>\n",
              "      <td>serum levels of interleukin @ ( il-@ ) , il-@ ...</td>\n",
              "      <td>5</td>\n",
              "      <td>11</td>\n",
              "    </tr>\n",
              "    <tr>\n",
              "      <th>6</th>\n",
              "      <td>RESULTS</td>\n",
              "      <td>there was a clinically relevant reduction in t...</td>\n",
              "      <td>6</td>\n",
              "      <td>11</td>\n",
              "    </tr>\n",
              "    <tr>\n",
              "      <th>7</th>\n",
              "      <td>RESULTS</td>\n",
              "      <td>the mean difference between treatment arms ( @...</td>\n",
              "      <td>7</td>\n",
              "      <td>11</td>\n",
              "    </tr>\n",
              "    <tr>\n",
              "      <th>8</th>\n",
              "      <td>RESULTS</td>\n",
              "      <td>further , there was a clinically relevant redu...</td>\n",
              "      <td>8</td>\n",
              "      <td>11</td>\n",
              "    </tr>\n",
              "    <tr>\n",
              "      <th>9</th>\n",
              "      <td>RESULTS</td>\n",
              "      <td>these differences remained significant at @ we...</td>\n",
              "      <td>9</td>\n",
              "      <td>11</td>\n",
              "    </tr>\n",
              "    <tr>\n",
              "      <th>10</th>\n",
              "      <td>RESULTS</td>\n",
              "      <td>the outcome measures in rheumatology clinical ...</td>\n",
              "      <td>10</td>\n",
              "      <td>11</td>\n",
              "    </tr>\n",
              "    <tr>\n",
              "      <th>11</th>\n",
              "      <td>CONCLUSIONS</td>\n",
              "      <td>low-dose oral prednisolone had both a short-te...</td>\n",
              "      <td>11</td>\n",
              "      <td>11</td>\n",
              "    </tr>\n",
              "    <tr>\n",
              "      <th>12</th>\n",
              "      <td>BACKGROUND</td>\n",
              "      <td>emotional eating is associated with overeating...</td>\n",
              "      <td>0</td>\n",
              "      <td>10</td>\n",
              "    </tr>\n",
              "    <tr>\n",
              "      <th>13</th>\n",
              "      <td>BACKGROUND</td>\n",
              "      <td>yet , empirical evidence for individual ( trai...</td>\n",
              "      <td>1</td>\n",
              "      <td>10</td>\n",
              "    </tr>\n",
              "  </tbody>\n",
              "</table>\n",
              "</div>\n",
              "      <button class=\"colab-df-convert\" onclick=\"convertToInteractive('df-b6aa657b-0ced-40e4-8595-7615266cb98f')\"\n",
              "              title=\"Convert this dataframe to an interactive table.\"\n",
              "              style=\"display:none;\">\n",
              "        \n",
              "  <svg xmlns=\"http://www.w3.org/2000/svg\" height=\"24px\"viewBox=\"0 0 24 24\"\n",
              "       width=\"24px\">\n",
              "    <path d=\"M0 0h24v24H0V0z\" fill=\"none\"/>\n",
              "    <path d=\"M18.56 5.44l.94 2.06.94-2.06 2.06-.94-2.06-.94-.94-2.06-.94 2.06-2.06.94zm-11 1L8.5 8.5l.94-2.06 2.06-.94-2.06-.94L8.5 2.5l-.94 2.06-2.06.94zm10 10l.94 2.06.94-2.06 2.06-.94-2.06-.94-.94-2.06-.94 2.06-2.06.94z\"/><path d=\"M17.41 7.96l-1.37-1.37c-.4-.4-.92-.59-1.43-.59-.52 0-1.04.2-1.43.59L10.3 9.45l-7.72 7.72c-.78.78-.78 2.05 0 2.83L4 21.41c.39.39.9.59 1.41.59.51 0 1.02-.2 1.41-.59l7.78-7.78 2.81-2.81c.8-.78.8-2.07 0-2.86zM5.41 20L4 18.59l7.72-7.72 1.47 1.35L5.41 20z\"/>\n",
              "  </svg>\n",
              "      </button>\n",
              "      \n",
              "  <style>\n",
              "    .colab-df-container {\n",
              "      display:flex;\n",
              "      flex-wrap:wrap;\n",
              "      gap: 12px;\n",
              "    }\n",
              "\n",
              "    .colab-df-convert {\n",
              "      background-color: #E8F0FE;\n",
              "      border: none;\n",
              "      border-radius: 50%;\n",
              "      cursor: pointer;\n",
              "      display: none;\n",
              "      fill: #1967D2;\n",
              "      height: 32px;\n",
              "      padding: 0 0 0 0;\n",
              "      width: 32px;\n",
              "    }\n",
              "\n",
              "    .colab-df-convert:hover {\n",
              "      background-color: #E2EBFA;\n",
              "      box-shadow: 0px 1px 2px rgba(60, 64, 67, 0.3), 0px 1px 3px 1px rgba(60, 64, 67, 0.15);\n",
              "      fill: #174EA6;\n",
              "    }\n",
              "\n",
              "    [theme=dark] .colab-df-convert {\n",
              "      background-color: #3B4455;\n",
              "      fill: #D2E3FC;\n",
              "    }\n",
              "\n",
              "    [theme=dark] .colab-df-convert:hover {\n",
              "      background-color: #434B5C;\n",
              "      box-shadow: 0px 1px 3px 1px rgba(0, 0, 0, 0.15);\n",
              "      filter: drop-shadow(0px 1px 2px rgba(0, 0, 0, 0.3));\n",
              "      fill: #FFFFFF;\n",
              "    }\n",
              "  </style>\n",
              "\n",
              "      <script>\n",
              "        const buttonEl =\n",
              "          document.querySelector('#df-b6aa657b-0ced-40e4-8595-7615266cb98f button.colab-df-convert');\n",
              "        buttonEl.style.display =\n",
              "          google.colab.kernel.accessAllowed ? 'block' : 'none';\n",
              "\n",
              "        async function convertToInteractive(key) {\n",
              "          const element = document.querySelector('#df-b6aa657b-0ced-40e4-8595-7615266cb98f');\n",
              "          const dataTable =\n",
              "            await google.colab.kernel.invokeFunction('convertToInteractive',\n",
              "                                                     [key], {});\n",
              "          if (!dataTable) return;\n",
              "\n",
              "          const docLinkHtml = 'Like what you see? Visit the ' +\n",
              "            '<a target=\"_blank\" href=https://colab.research.google.com/notebooks/data_table.ipynb>data table notebook</a>'\n",
              "            + ' to learn more about interactive tables.';\n",
              "          element.innerHTML = '';\n",
              "          dataTable['output_type'] = 'display_data';\n",
              "          await google.colab.output.renderOutput(dataTable, element);\n",
              "          const docLink = document.createElement('div');\n",
              "          docLink.innerHTML = docLinkHtml;\n",
              "          element.appendChild(docLink);\n",
              "        }\n",
              "      </script>\n",
              "    </div>\n",
              "  </div>\n",
              "  "
            ]
          },
          "metadata": {},
          "execution_count": 10
        }
      ],
      "source": [
        "import pandas as pd\n",
        "train_df = pd.DataFrame(train_samples)\n",
        "val_df = pd.DataFrame(val_samples)\n",
        "test_df = pd.DataFrame(test_samples)\n",
        "train_df.head(14)"
      ]
    },
    {
      "cell_type": "code",
      "source": [
        "# Distrbution of labels\n",
        "test_df.target.value_counts()"
      ],
      "metadata": {
        "id": "yjmtABsnO5KA"
      },
      "execution_count": null,
      "outputs": []
    },
    {
      "cell_type": "code",
      "execution_count": null,
      "metadata": {
        "colab": {
          "base_uri": "https://localhost:8080/",
          "height": 276
        },
        "id": "RCf_uAbmryuj",
        "outputId": "a8ae9d60-48fe-4d5a-a9f4-9232f9959893"
      },
      "outputs": [
        {
          "data": {
            "image/png": "[encoded data removed]",
            "text/plain": [
              "<Figure size 432x288 with 1 Axes>"
            ]
          },
          "metadata": {
            "needs_background": "light"
          },
          "output_type": "display_data"
        }
      ],
      "source": [
        "# Distribution of lines in abstract\n",
        "test_df.total_lines.plot.hist();"
      ]
    },
    {
      "cell_type": "markdown",
      "source": [
        "### Split the sentences into words and chars"
      ],
      "metadata": {
        "id": "To1GrDtxNl3O"
      }
    },
    {
      "cell_type": "code",
      "execution_count": 11,
      "metadata": {
        "colab": {
          "base_uri": "https://localhost:8080/"
        },
        "id": "sJCbG6XGsYmV",
        "outputId": "4b9c17fa-4ece-4677-9469-1fd894d1cf69"
      },
      "outputs": [
        {
          "output_type": "execute_result",
          "data": {
            "text/plain": [
              "(180040, 30212, 30135)"
            ]
          },
          "metadata": {},
          "execution_count": 11
        }
      ],
      "source": [
        "# Get text lines into lists\n",
        "train_sentences = train_df[\"text\"].tolist()\n",
        "val_sentences = val_df[\"text\"].tolist()\n",
        "test_sentences = test_df[\"text\"].tolist()\n",
        "len(train_sentences), len(val_sentences), len(test_sentences)\n",
        "# The number sshould match with the previous numbers"
      ]
    },
    {
      "cell_type": "code",
      "execution_count": 16,
      "metadata": {
        "id": "wSG2jQOdlwnX"
      },
      "outputs": [],
      "source": [
        "# Split sequence level data into character-level data\n",
        "train_chars = [split_chars(sentence) for sentence in train_sentences]\n",
        "val_chars = [split_chars(sentence) for sentence in val_sentences]\n",
        "test_chars = [split_chars(sentence) for sentence in test_sentences]"
      ]
    },
    {
      "cell_type": "code",
      "execution_count": 15,
      "metadata": {
        "id": "7lcOJioXfUO1"
      },
      "outputs": [],
      "source": [
        "# Make function to split sentences into characters\n",
        "def split_chars(text):\n",
        "  return \" \".join(list(text))\n"
      ]
    },
    {
      "cell_type": "markdown",
      "source": [
        "### One-hot encode: target labels, line numbers, total line number"
      ],
      "metadata": {
        "id": "tAGYzkDJNyoZ"
      }
    },
    {
      "cell_type": "code",
      "execution_count": 13,
      "metadata": {
        "id": "qdjHMsHLlXdG"
      },
      "outputs": [],
      "source": [
        "# One hot encode labels\n",
        "from sklearn.preprocessing import OneHotEncoder\n",
        "one_hot_encoder = OneHotEncoder(sparse=False)\n",
        "train_labels_one_hot = one_hot_encoder.fit_transform(train_df[\"target\"].to_numpy().reshape(-1,1))\n",
        "val_labels_one_hot = one_hot_encoder.transform(val_df[\"target\"].to_numpy().reshape(-1,1))\n",
        "test_labels_one_hot = one_hot_encoder.transform(test_df[\"target\"].to_numpy().reshape(-1,1))"
      ]
    },
    {
      "cell_type": "code",
      "execution_count": 12,
      "metadata": {
        "id": "qCsRvML6ey36"
      },
      "outputs": [],
      "source": [
        "# The depth of # line is 15, #total lines is 20 \n",
        "# Create one-hot encoded tensors\n",
        "train_line_numbers_one_hot = tf.one_hot(train_df[\"line_number\"].to_numpy(), depth=15)\n",
        "val_line_numbers_one_hot = tf.one_hot(val_df[\"line_number\"].to_numpy(), depth=15)\n",
        "test_line_numbers_one_hot = tf.one_hot(test_df[\"line_number\"].to_numpy(), depth=15)\n",
        "\n",
        "# Create one-hot encoded tensors\n",
        "train_total_lines_one_hot = tf.one_hot(train_df[\"total_lines\"].to_numpy(), depth=20)\n",
        "val_total_lines_one_hot = tf.one_hot(val_df[\"total_lines\"].to_numpy(), depth=20)\n",
        "test_total_lines_one_hot = tf.one_hot(test_df[\"total_lines\"].to_numpy(), depth=20)"
      ]
    },
    {
      "cell_type": "markdown",
      "source": [
        "### Encode target labels in ints"
      ],
      "metadata": {
        "id": "gb4PpxE1OLPt"
      }
    },
    {
      "cell_type": "code",
      "execution_count": 14,
      "metadata": {
        "id": "adPaNx7UEdFs"
      },
      "outputs": [],
      "source": [
        "# Extract labels and ecode them into integers\n",
        "from sklearn.preprocessing import LabelEncoder\n",
        "label_encoder = LabelEncoder()\n",
        "train_labels_encoded = label_encoder.fit_transform(train_df[\"target\"].to_numpy())\n",
        "val_labels_encoded = label_encoder.transform(val_df[\"target\"].to_numpy())\n",
        "test_labels_encoded = label_encoder.fit_transform(test_df[\"target\"].to_numpy())"
      ]
    },
    {
      "cell_type": "code",
      "execution_count": 17,
      "metadata": {
        "colab": {
          "base_uri": "https://localhost:8080/"
        },
        "id": "hArt7oV6lyRz",
        "outputId": "c9df3609-adff-44a1-86b8-b5536b37a222"
      },
      "outputs": [
        {
          "output_type": "execute_result",
          "data": {
            "text/plain": [
              "149.3662574983337"
            ]
          },
          "metadata": {},
          "execution_count": 17
        }
      ],
      "source": [
        "# What's the average character length?\n",
        "char_lens = [len(sentence) for sentence in train_sentences]\n",
        "mean_char_len = np.mean(char_lens)\n",
        "mean_char_len"
      ]
    },
    {
      "cell_type": "code",
      "execution_count": 18,
      "metadata": {
        "colab": {
          "base_uri": "https://localhost:8080/"
        },
        "id": "fNmL02-Ml5gf",
        "outputId": "0f981b64-fb03-465a-dc33-801670d92630"
      },
      "outputs": [
        {
          "output_type": "execute_result",
          "data": {
            "text/plain": [
              "290"
            ]
          },
          "metadata": {},
          "execution_count": 18
        }
      ],
      "source": [
        "# Find what character length covers 95%\n",
        "output_seq_char_len = int(np.percentile(char_lens, 95))\n",
        "output_seq_char_len"
      ]
    },
    {
      "cell_type": "markdown",
      "metadata": {
        "id": "dg050ToIp26B"
      },
      "source": [
        "## Part 3: Create custom embeddings"
      ]
    },
    {
      "cell_type": "markdown",
      "source": [
        "### Import pretrained Universal Sentence Encoder from tensorflow hub"
      ],
      "metadata": {
        "id": "rwGs6h4QPgQa"
      }
    },
    {
      "cell_type": "code",
      "execution_count": 25,
      "metadata": {
        "id": "yR7oFt3Wmjp5"
      },
      "outputs": [],
      "source": [
        "# Import the embedding layer from tf_hub\n",
        "import tensorflow_hub as hub\n",
        "tf_hub_embedding_layer = hub.KerasLayer(\"https://tfhub.dev/google/universal-sentence-encoder/4\",\n",
        "                                        trainable=False,\n",
        "                                        dtype=tf.string,\n",
        "                                        name=\"universal_sentence_encoder\")"
      ]
    },
    {
      "cell_type": "markdown",
      "metadata": {
        "id": "vxUmxtg-EdFt"
      },
      "source": [
        "### Create Custom Token Embeddings"
      ]
    },
    {
      "cell_type": "code",
      "execution_count": 19,
      "metadata": {
        "id": "4W82X1_QEdFt"
      },
      "outputs": [],
      "source": [
        "# How many words in out vocab (says in paper)\n",
        "max_tokens = 68000\n",
        "# Create text vectorizer\n",
        "from tensorflow.keras.layers.experimental.preprocessing import TextVectorization\n",
        "\n",
        "text_vectorizer = TextVectorization(max_tokens=max_tokens,\n",
        "                                        output_sequence_length=55)# 95% of sentences in the datasset have less than 55 words or tokens\n",
        "# Fit text vectorizer to training sentences\n",
        "text_vectorizer.adapt(train_sentences)"
      ]
    },
    {
      "cell_type": "code",
      "execution_count": 20,
      "metadata": {
        "id": "1OwEfCbXEdFu"
      },
      "outputs": [],
      "source": [
        "# How many words in train vocab\n",
        "rct_20k_text_vocab = text_vectorizer.get_vocabulary()\n",
        "# Create token embedding later\n",
        "text_embed = layers.Embedding(input_dim=len(rct_20k_text_vocab),\n",
        "                                output_dim=128,\n",
        "                                mask_zero=True,\n",
        "                                name=\"token_embedding\")"
      ]
    },
    {
      "cell_type": "markdown",
      "source": [
        "### Create Custom Character Embeddings"
      ],
      "metadata": {
        "id": "CouGVQfnR2zd"
      }
    },
    {
      "cell_type": "code",
      "execution_count": 21,
      "metadata": {
        "id": "GRj7pNWxnTGc"
      },
      "outputs": [],
      "source": [
        "from tensorflow.keras.layers.experimental.preprocessing import TextVectorization\n",
        "# Get all keyboard characters\n",
        "import string\n",
        "alphabet = string.ascii_lowercase+string.digits + string.punctuation\n",
        "# Create char-level token vectorizer instance\n",
        "NUM_CHAR_TOKENS = len(alphabet) + 2\n",
        "char_vectorizer = TextVectorization(max_tokens=NUM_CHAR_TOKENS,\n",
        "                                    output_sequence_length=output_seq_char_len,\n",
        "                                    standardize = \"lower_and_strip_punctuation\",\n",
        "                                    name=\"char_vectorizer\")\n"
      ]
    },
    {
      "cell_type": "code",
      "execution_count": 22,
      "metadata": {
        "id": "ANWsV5r2EdFu"
      },
      "outputs": [],
      "source": [
        "# Adapt it to our training characters\n",
        "char_vectorizer.adapt(train_chars)"
      ]
    },
    {
      "cell_type": "code",
      "execution_count": 23,
      "metadata": {
        "id": "zAhC55os2jMz"
      },
      "outputs": [],
      "source": [
        "# Get char vocab \n",
        "char_vocab = char_vectorizer.get_vocabulary()\n",
        "# Create char embedding layer\n",
        "char_embed = layers.Embedding(input_dim=len(char_vocab),\n",
        "                              output_dim=25,\n",
        "                              mask_zero=True,\n",
        "                              name=\"char_embed\")"
      ]
    },
    {
      "cell_type": "markdown",
      "source": [
        "## Part 4: Prepare datasets for training"
      ],
      "metadata": {
        "id": "70OitVnPSOhH"
      }
    },
    {
      "cell_type": "code",
      "execution_count": 30,
      "metadata": {
        "id": "9WLxMWlzp9Xu"
      },
      "outputs": [],
      "source": [
        "# Create training and validation datasetss with all four kinds of inputs\n",
        "train_char_token_pos_data = tf.data.Dataset.from_tensor_slices((train_line_numbers_one_hot,\n",
        "                                                                train_total_lines_one_hot,\n",
        "                                                                train_sentences,\n",
        "                                                                train_chars))\n",
        "train_char_token_pos_labels = tf.data.Dataset.from_tensor_slices(train_labels_one_hot)\n",
        "train_char_token_pos_dataset = tf.data.Dataset.zip((train_char_token_pos_data, train_char_token_pos_labels))\n",
        "train_char_token_pos_dataset = train_char_token_pos_dataset.batch(32).prefetch(tf.data.AUTOTUNE)\n",
        "\n",
        "# Valid dataset\n",
        "val_char_token_pos_data = tf.data.Dataset.from_tensor_slices((val_line_numbers_one_hot,\n",
        "                                                                val_total_lines_one_hot,\n",
        "                                                                val_sentences,\n",
        "                                                                val_chars))\n",
        "val_char_token_pos_labels = tf.data.Dataset.from_tensor_slices(val_labels_one_hot)\n",
        "val_char_token_pos_dataset = tf.data.Dataset.zip((val_char_token_pos_data, val_char_token_pos_labels))\n",
        "val_char_token_pos_dataset = val_char_token_pos_dataset.batch(32).prefetch(tf.data.AUTOTUNE)\n",
        "\n",
        "# Test dataset\n",
        "test_char_token_pos_data = tf.data.Dataset.from_tensor_slices((test_line_numbers_one_hot,\n",
        "                                                                test_total_lines_one_hot,\n",
        "                                                                test_sentences,\n",
        "                                                                test_chars))\n",
        "test_char_token_pos_labels = tf.data.Dataset.from_tensor_slices(test_labels_one_hot)\n",
        "test_char_token_pos_dataset = tf.data.Dataset.zip((test_char_token_pos_data, test_char_token_pos_labels))\n",
        "test_char_token_pos_dataset = test_char_token_pos_dataset.batch(32).prefetch(tf.data.AUTOTUNE)\n"
      ]
    },
    {
      "cell_type": "markdown",
      "source": [
        "## Part 5: Default Model "
      ],
      "metadata": {
        "id": "rkgEJiMqM_QG"
      }
    },
    {
      "cell_type": "code",
      "source": [
        "# Default model\n",
        "\n",
        "# 1. Setup token inputs/model\n",
        "token_inputs = layers.Input(shape=[], dtype = tf.string, name=\"token_input\")\n",
        "token_embeddings = tf_hub_embedding_layer(token_inputs)\n",
        "token_outputs = layers.Dense(128, activation='relu')(token_embeddings)\n",
        "token_model = tf.keras.Model(inputs=token_inputs,\n",
        "                             outputs=token_outputs)\n",
        "\n",
        "# 2. Setup char inputs/model\n",
        "char_inputs = layers.Input(shape=(1,), dtype=tf.string, name=\"char_input\")\n",
        "char_vectors = char_vectorizer(char_inputs)\n",
        "char_embeddings = char_embed(char_vectors)\n",
        "char_bi_lstm = layers.Bidirectional(layers.LSTM(24))(char_embeddings)\n",
        "char_model = tf.keras.Model(char_inputs, char_bi_lstm)\n",
        "\n",
        "# 3. Line number inputs model\n",
        "line_number_inputs = layers.Input(shape=(15,), dtype = tf.float32, name=\"line_number_input\")\n",
        "x = layers.Dense(32, activation='relu')(line_number_inputs)\n",
        "line_number_model = tf.keras.Model(line_number_inputs, x)\n",
        "\n",
        "# 4. Total lines model\n",
        "total_lines_inputs = layers.Input(shape=(20,), dtype = tf.float32, name=\"total_lines_input\")\n",
        "y = layers.Dense(32, activation='relu')(total_lines_inputs)\n",
        "total_line_model = tf.keras.Model(total_lines_inputs, y)\n",
        "\n",
        "# 5. Concatenate 1 and 2\n",
        "combined_embeddings = layers.Concatenate(name=\"char_token_hybrid_embedding\")([token_model.output,\n",
        "                                                                  char_model.output])\n",
        "z = layers.Dense(256, activation=\"relu\")(combined_embeddings)\n",
        "z = layers.Dropout(0.5)(z)\n",
        "\n",
        "# 6 Combine positional embeddings with combined token and char embeddings\n",
        "tribrid_embeddings = layers.Concatenate(name=\"chat_token_positional_embedding\")([line_number_model.output,\n",
        "                                                                                total_line_model.output,\n",
        "                                                                                 z])\n",
        "# 7. Create output layer\n",
        "output_layer = layers.Dense(5, activation=\"softmax\", name = \"output_layer\")(tribrid_embeddings)\n",
        "\n",
        "# 8. Put all together\n",
        "model_default = tf.keras.Model(inputs=[line_number_model.input,\n",
        "                                 total_line_model.input,\n",
        "                                 token_model.input,\n",
        "                                 char_model.input], outputs = output_layer)"
      ],
      "metadata": {
        "id": "VOE_2idqFfE7"
      },
      "execution_count": 26,
      "outputs": []
    },
    {
      "cell_type": "code",
      "execution_count": 27,
      "metadata": {
        "id": "sXGWudiOplMc",
        "outputId": "a09ef746-78bc-4bfb-d3d9-1767d33178d2",
        "colab": {
          "base_uri": "https://localhost:8080/"
        }
      },
      "outputs": [
        {
          "output_type": "stream",
          "name": "stdout",
          "text": [
            "Model: \"model_4\"\n",
            "__________________________________________________________________________________________________\n",
            " Layer (type)                   Output Shape         Param #     Connected to                     \n",
            "==================================================================================================\n",
            " char_input (InputLayer)        [(None, 1)]          0           []                               \n",
            "                                                                                                  \n",
            " token_input (InputLayer)       [(None,)]            0           []                               \n",
            "                                                                                                  \n",
            " char_vectorizer (TextVectoriza  (None, 290)         0           ['char_input[0][0]']             \n",
            " tion)                                                                                            \n",
            "                                                                                                  \n",
            " universal_sentence_encoder (Ke  (None, 512)         256797824   ['token_input[0][0]']            \n",
            " rasLayer)                                                                                        \n",
            "                                                                                                  \n",
            " char_embed (Embedding)         (None, 290, 25)      700         ['char_vectorizer[0][0]']        \n",
            "                                                                                                  \n",
            " dense (Dense)                  (None, 128)          65664       ['universal_sentence_encoder[0][0\n",
            "                                                                 ]']                              \n",
            "                                                                                                  \n",
            " bidirectional (Bidirectional)  (None, 48)           9600        ['char_embed[0][0]']             \n",
            "                                                                                                  \n",
            " char_token_hybrid_embedding (C  (None, 176)         0           ['dense[0][0]',                  \n",
            " oncatenate)                                                      'bidirectional[0][0]']          \n",
            "                                                                                                  \n",
            " line_number_input (InputLayer)  [(None, 15)]        0           []                               \n",
            "                                                                                                  \n",
            " total_lines_input (InputLayer)  [(None, 20)]        0           []                               \n",
            "                                                                                                  \n",
            " dense_3 (Dense)                (None, 256)          45312       ['char_token_hybrid_embedding[0][\n",
            "                                                                 0]']                             \n",
            "                                                                                                  \n",
            " dense_1 (Dense)                (None, 32)           512         ['line_number_input[0][0]']      \n",
            "                                                                                                  \n",
            " dense_2 (Dense)                (None, 32)           672         ['total_lines_input[0][0]']      \n",
            "                                                                                                  \n",
            " dropout (Dropout)              (None, 256)          0           ['dense_3[0][0]']                \n",
            "                                                                                                  \n",
            " chat_token_positional_embeddin  (None, 320)         0           ['dense_1[0][0]',                \n",
            " g (Concatenate)                                                  'dense_2[0][0]',                \n",
            "                                                                  'dropout[0][0]']                \n",
            "                                                                                                  \n",
            " output_layer (Dense)           (None, 5)            1605        ['chat_token_positional_embedding\n",
            "                                                                 [0][0]']                         \n",
            "                                                                                                  \n",
            "==================================================================================================\n",
            "Total params: 256,921,889\n",
            "Trainable params: 124,065\n",
            "Non-trainable params: 256,797,824\n",
            "__________________________________________________________________________________________________\n"
          ]
        }
      ],
      "source": [
        "model_default.summary()"
      ]
    },
    {
      "cell_type": "code",
      "execution_count": 28,
      "metadata": {
        "id": "0M_J4K_qpov8",
        "outputId": "8d7dc30c-9f5a-4604-c95e-b7ded553b7c6",
        "colab": {
          "base_uri": "https://localhost:8080/",
          "height": 0
        }
      },
      "outputs": [
        {
          "output_type": "execute_result",
          "data": {
            "image/png": "[encoded data removed]",
            "text/plain": [
              "<IPython.core.display.Image object>"
            ]
          },
          "metadata": {},
          "execution_count": 28
        }
      ],
      "source": [
        "from keras.utils.vis_utils import plot_model\n",
        "plot_model(model_default)"
      ]
    },
    {
      "cell_type": "code",
      "execution_count": 29,
      "metadata": {
        "id": "zkx7FNOSpkr4"
      },
      "outputs": [],
      "source": [
        "# Compiling the model\n",
        "model_default.compile(loss=tf.losses.CategoricalCrossentropy(label_smoothing=0.2),\n",
        "                optimizer = tf.keras.optimizers.Adam(),\n",
        "                metrics=[\"accuracy\"])"
      ]
    },
    {
      "cell_type": "code",
      "execution_count": 32,
      "metadata": {
        "id": "8yJmUFxxEdFv"
      },
      "outputs": [],
      "source": [
        "# Set checkpoint path\n",
        "checkpoint_path = \"/content/drive/MyDrive/SkimLit/model_default/\"\n",
        "\n",
        "# Create a ModelCheckpoint callback that saves your model's weight\n",
        "checkpoint_callback = tf.keras.callbacks.ModelCheckpoint(filepath=checkpoint_path,\n",
        "                                                         save_weights_only=True,\n",
        "                                                         save_best_only=True,\n",
        "                                                         monitor=\"val_accuracy\",\n",
        "                                                         verbose=1)"
      ]
    },
    {
      "cell_type": "code",
      "execution_count": 33,
      "metadata": {
        "id": "j1YcuQKzEdFv",
        "outputId": "08ede4b7-cd9d-4465-c4df-bd30a807096e",
        "colab": {
          "base_uri": "https://localhost:8080/"
        }
      },
      "outputs": [
        {
          "output_type": "stream",
          "name": "stdout",
          "text": [
            "Epoch 1/15\n",
            "5627/5627 [==============================] - ETA: 0s - loss: 0.9554 - accuracy: 0.8212\n",
            "Epoch 1: val_accuracy improved from -inf to 0.84721, saving model to /content/drive/MyDrive/SkimLit/model_default/\n",
            "5627/5627 [==============================] - 303s 51ms/step - loss: 0.9554 - accuracy: 0.8212 - val_loss: 0.9096 - val_accuracy: 0.8472\n",
            "Epoch 2/15\n",
            "5627/5627 [==============================] - ETA: 0s - loss: 0.9098 - accuracy: 0.8532\n",
            "Epoch 2: val_accuracy improved from 0.84721 to 0.85440, saving model to /content/drive/MyDrive/SkimLit/model_default/\n",
            "5627/5627 [==============================] - 285s 51ms/step - loss: 0.9098 - accuracy: 0.8532 - val_loss: 0.9005 - val_accuracy: 0.8544\n",
            "Epoch 3/15\n",
            "5627/5627 [==============================] - ETA: 0s - loss: 0.8971 - accuracy: 0.8616\n",
            "Epoch 3: val_accuracy improved from 0.85440 to 0.85459, saving model to /content/drive/MyDrive/SkimLit/model_default/\n",
            "5627/5627 [==============================] - 285s 51ms/step - loss: 0.8971 - accuracy: 0.8616 - val_loss: 0.8995 - val_accuracy: 0.8546\n",
            "Epoch 4/15\n",
            "5627/5627 [==============================] - ETA: 0s - loss: 0.8889 - accuracy: 0.8688\n",
            "Epoch 4: val_accuracy improved from 0.85459 to 0.85473, saving model to /content/drive/MyDrive/SkimLit/model_default/\n",
            "5627/5627 [==============================] - 292s 52ms/step - loss: 0.8889 - accuracy: 0.8688 - val_loss: 0.8986 - val_accuracy: 0.8547\n",
            "Epoch 5/15\n",
            "5626/5627 [============================>.] - ETA: 0s - loss: 0.8822 - accuracy: 0.8733\n",
            "Epoch 5: val_accuracy did not improve from 0.85473\n",
            "5627/5627 [==============================] - 303s 54ms/step - loss: 0.8822 - accuracy: 0.8733 - val_loss: 0.8986 - val_accuracy: 0.8544\n",
            "Epoch 6/15\n",
            "5627/5627 [==============================] - ETA: 0s - loss: 0.8765 - accuracy: 0.8784\n",
            "Epoch 6: val_accuracy improved from 0.85473 to 0.85516, saving model to /content/drive/MyDrive/SkimLit/model_default/\n",
            "5627/5627 [==============================] - 302s 54ms/step - loss: 0.8765 - accuracy: 0.8784 - val_loss: 0.8978 - val_accuracy: 0.8552\n",
            "Epoch 7/15\n",
            "5627/5627 [==============================] - ETA: 0s - loss: 0.8718 - accuracy: 0.8815\n",
            "Epoch 7: val_accuracy did not improve from 0.85516\n",
            "5627/5627 [==============================] - 287s 51ms/step - loss: 0.8718 - accuracy: 0.8815 - val_loss: 0.9001 - val_accuracy: 0.8538\n",
            "Epoch 8/15\n",
            "5627/5627 [==============================] - ETA: 0s - loss: 0.8676 - accuracy: 0.8850\n",
            "Epoch 8: val_accuracy did not improve from 0.85516\n",
            "5627/5627 [==============================] - 274s 49ms/step - loss: 0.8676 - accuracy: 0.8850 - val_loss: 0.9018 - val_accuracy: 0.8532\n",
            "Epoch 9/15\n",
            "5627/5627 [==============================] - ETA: 0s - loss: 0.8638 - accuracy: 0.8881\n",
            "Epoch 9: val_accuracy did not improve from 0.85516\n",
            "5627/5627 [==============================] - 295s 52ms/step - loss: 0.8638 - accuracy: 0.8881 - val_loss: 0.9021 - val_accuracy: 0.8525\n",
            "Epoch 10/15\n",
            "5627/5627 [==============================] - ETA: 0s - loss: 0.8606 - accuracy: 0.8904\n",
            "Epoch 10: val_accuracy did not improve from 0.85516\n",
            "5627/5627 [==============================] - 300s 53ms/step - loss: 0.8606 - accuracy: 0.8904 - val_loss: 0.9058 - val_accuracy: 0.8506\n",
            "Epoch 11/15\n",
            "5627/5627 [==============================] - ETA: 0s - loss: 0.8575 - accuracy: 0.8929\n",
            "Epoch 11: val_accuracy did not improve from 0.85516\n",
            "5627/5627 [==============================] - 312s 55ms/step - loss: 0.8575 - accuracy: 0.8929 - val_loss: 0.9054 - val_accuracy: 0.8525\n",
            "Epoch 12/15\n",
            "5627/5627 [==============================] - ETA: 0s - loss: 0.8547 - accuracy: 0.8947\n",
            "Epoch 12: val_accuracy did not improve from 0.85516\n",
            "5627/5627 [==============================] - 284s 50ms/step - loss: 0.8547 - accuracy: 0.8947 - val_loss: 0.9068 - val_accuracy: 0.8513\n",
            "Epoch 13/15\n",
            "5626/5627 [============================>.] - ETA: 0s - loss: 0.8523 - accuracy: 0.8970\n",
            "Epoch 13: val_accuracy did not improve from 0.85516\n",
            "5627/5627 [==============================] - 278s 49ms/step - loss: 0.8523 - accuracy: 0.8970 - val_loss: 0.9077 - val_accuracy: 0.8506\n",
            "Epoch 14/15\n",
            "5627/5627 [==============================] - ETA: 0s - loss: 0.8495 - accuracy: 0.8994\n",
            "Epoch 14: val_accuracy did not improve from 0.85516\n",
            "5627/5627 [==============================] - 277s 49ms/step - loss: 0.8495 - accuracy: 0.8994 - val_loss: 0.9077 - val_accuracy: 0.8513\n",
            "Epoch 15/15\n",
            "5626/5627 [============================>.] - ETA: 0s - loss: 0.8472 - accuracy: 0.9012\n",
            "Epoch 15: val_accuracy did not improve from 0.85516\n",
            "5627/5627 [==============================] - 273s 48ms/step - loss: 0.8472 - accuracy: 0.9012 - val_loss: 0.9100 - val_accuracy: 0.8518\n"
          ]
        }
      ],
      "source": [
        "history_default=model_default.fit(train_char_token_pos_dataset,\n",
        "                    steps_per_epoch=len(train_char_token_pos_dataset),\n",
        "                    epochs=15,\n",
        "                    validation_data=val_char_token_pos_dataset,\n",
        "                    validation_steps=len(val_char_token_pos_dataset),\n",
        "                    callbacks=[checkpoint_callback])"
      ]
    },
    {
      "cell_type": "code",
      "source": [
        "# Make predictions\n",
        "model_default_pred_probs = model_default.predict(test_char_token_pos_dataset, verbose = 1)\n",
        "model_default_pred_probs, model_default_pred_probs.shape\n",
        "# Convert pred probs to classes\n",
        "model_default_preds = tf.argmax(model_default_pred_probs, axis = 1)"
      ],
      "metadata": {
        "colab": {
          "base_uri": "https://localhost:8080/"
        },
        "id": "SFMvOD3IG8cx",
        "outputId": "b3d0f501-7e5c-489f-dbd5-92148aea220b"
      },
      "execution_count": 34,
      "outputs": [
        {
          "output_type": "stream",
          "name": "stdout",
          "text": [
            "942/942 [==============================] - 23s 22ms/step\n"
          ]
        }
      ]
    },
    {
      "cell_type": "code",
      "source": [
        "from helper_functions import calculate_results\n",
        "model_default_results = calculate_results(test_labels_encoded, model_default_preds)\n",
        "model_default_results"
      ],
      "metadata": {
        "colab": {
          "base_uri": "https://localhost:8080/"
        },
        "id": "t3c3b_H3HRcc",
        "outputId": "3bccf9e2-3a2e-4e8c-d66c-af4b9d046b43"
      },
      "execution_count": 35,
      "outputs": [
        {
          "output_type": "execute_result",
          "data": {
            "text/plain": [
              "{'accuracy': 84.53957192633152,\n",
              " 'precision': 0.8450784124200732,\n",
              " 'recall': 0.8453957192633151,\n",
              " 'f1': 0.8426924392674481}"
            ]
          },
          "metadata": {},
          "execution_count": 35
        }
      ]
    },
    {
      "cell_type": "code",
      "source": [
        "from helper_functions import plot_loss_curves\n",
        "plot_loss_curves(history_default)"
      ],
      "metadata": {
        "colab": {
          "base_uri": "https://localhost:8080/",
          "height": 0
        },
        "id": "Bp425V9fZ2i_",
        "outputId": "dbafff54-8643-40c6-d835-1feb828269c9"
      },
      "execution_count": 36,
      "outputs": [
        {
          "output_type": "display_data",
          "data": {
            "text/plain": [
              "<Figure size 432x288 with 1 Axes>"
            ],
            "image/png": "[encoded data removed]"
          },
          "metadata": {
            "needs_background": "light"
          }
        },
        {
          "output_type": "display_data",
          "data": {
            "text/plain": [
              "<Figure size 432x288 with 1 Axes>"
            ],
            "image/png": "[encoded data removed]"
          },
          "metadata": {
            "needs_background": "light"
          }
        }
      ]
    },
    {
      "cell_type": "code",
      "source": [
        "# Save history and model \n",
        "import pickle\n",
        "with open('/content/drive/MyDrive/SkimLit/model_default/trainHistoryDict', 'wb') as file_pi:\n",
        "    pickle.dump(history_default.history, file_pi)\n",
        "\n",
        "model_default.save(\"/content/drive/MyDrive/SkimLit/model_default/\")"
      ],
      "metadata": {
        "colab": {
          "base_uri": "https://localhost:8080/"
        },
        "id": "Zk4ZUGGFHyvB",
        "outputId": "ece87b20-aeec-4203-d355-5d23387548ef"
      },
      "execution_count": 39,
      "outputs": [
        {
          "output_type": "stream",
          "name": "stderr",
          "text": [
            "WARNING:absl:Found untraced functions such as lstm_cell_1_layer_call_fn, lstm_cell_1_layer_call_and_return_conditional_losses, lstm_cell_2_layer_call_fn, lstm_cell_2_layer_call_and_return_conditional_losses while saving (showing 4 of 4). These functions will not be directly callable after loading.\n"
          ]
        }
      ]
    },
    {
      "cell_type": "markdown",
      "source": [
        "## Part 6: Custom embeddings model"
      ],
      "metadata": {
        "id": "n4ZAuhUMTDpf"
      }
    },
    {
      "cell_type": "code",
      "execution_count": 45,
      "metadata": {
        "id": "zPahQi1BethC"
      },
      "outputs": [],
      "source": [
        "# Custom embeddings model\n",
        "\n",
        "# 1. Setup token inputs/model\n",
        "text_inputs = layers.Input(shape=(1,), dtype=tf.string, name=\"text_input\")\n",
        "text_vectors = text_vectorizer(text_inputs)\n",
        "text_embeddings = text_embed(text_vectors)\n",
        "text_bi_lstm = layers.Bidirectional(layers.LSTM(24))(text_embeddings)\n",
        "text_model = tf.keras.Model(text_inputs, text_bi_lstm)\n",
        "\n",
        "# 2. Setup char inputs/model\n",
        "char_inputs = layers.Input(shape=(1,), dtype=tf.string, name=\"char_input\")\n",
        "char_vectors = char_vectorizer(char_inputs)\n",
        "char_embeddings = char_embed(char_vectors)\n",
        "char_bi_lstm = layers.Bidirectional(layers.LSTM(24))(char_embeddings)\n",
        "char_model = tf.keras.Model(char_inputs, char_bi_lstm)\n",
        "\n",
        "# 3. Line number inputs model\n",
        "line_number_inputs = layers.Input(shape=(15,), dtype = tf.float32, name=\"line_number_input\")\n",
        "x = layers.Dense(32, activation='relu')(line_number_inputs)\n",
        "line_number_model = tf.keras.Model(line_number_inputs, x)\n",
        "\n",
        "# 4. Total lines model\n",
        "total_lines_inputs = layers.Input(shape=(20,), dtype = tf.float32, name=\"total_lines_input\")\n",
        "y = layers.Dense(32, activation='relu')(total_lines_inputs)\n",
        "total_line_model = tf.keras.Model(total_lines_inputs, y)\n",
        "\n",
        "# 5. Concatenate 1 and 2\n",
        "combined_embeddings = layers.Concatenate(name=\"char_token_hybrid_embedding\")([text_model.output,\n",
        "                                                                  char_model.output])\n",
        "z = layers.Dense(256, activation=\"relu\")(combined_embeddings)\n",
        "z = layers.Dropout(0.5)(z)\n",
        "\n",
        "# 6. Combine positional embeddings with combined token and char embeddings\n",
        "tribrid_embeddings = layers.Concatenate(name=\"chat_token_positional_embedding\")([line_number_model.output,\n",
        "                                                                                total_line_model.output,\n",
        "                                                                                 z])\n",
        "final_dense = layers.Dense(128, activation=\"relu\")(tribrid_embeddings)\n",
        "final_dense = layers.Dropout(0.2)(final_dense)\n",
        "\n",
        "# 7. Create output layer\n",
        "output_layer = layers.Dense(5, activation=\"softmax\", name = \"output_layer\")(final_dense)\n",
        "\n",
        "# 8. Put all together\n",
        "model_c_embed = tf.keras.Model(inputs=[line_number_model.input,\n",
        "                                 total_line_model.input,\n",
        "                                 text_model.input,\n",
        "                                 char_model.input], outputs = output_layer, name=\"model_2\")"
      ]
    },
    {
      "cell_type": "code",
      "source": [
        "model_c_embed.summary()"
      ],
      "metadata": {
        "colab": {
          "base_uri": "https://localhost:8080/"
        },
        "id": "y7mnUhazTzlT",
        "outputId": "8c0faedf-5030-4057-e00c-35206af189f5"
      },
      "execution_count": 46,
      "outputs": [
        {
          "output_type": "stream",
          "name": "stdout",
          "text": [
            "Model: \"model_2\"\n",
            "__________________________________________________________________________________________________\n",
            " Layer (type)                   Output Shape         Param #     Connected to                     \n",
            "==================================================================================================\n",
            " text_input (InputLayer)        [(None, 1)]          0           []                               \n",
            "                                                                                                  \n",
            " char_input (InputLayer)        [(None, 1)]          0           []                               \n",
            "                                                                                                  \n",
            " text_vectorization (TextVector  (None, 55)          0           ['text_input[0][0]']             \n",
            " ization)                                                                                         \n",
            "                                                                                                  \n",
            " char_vectorizer (TextVectoriza  (None, 290)         0           ['char_input[0][0]']             \n",
            " tion)                                                                                            \n",
            "                                                                                                  \n",
            " token_embedding (Embedding)    (None, 55, 128)      8299648     ['text_vectorization[0][0]']     \n",
            "                                                                                                  \n",
            " char_embed (Embedding)         (None, 290, 25)      700         ['char_vectorizer[1][0]']        \n",
            "                                                                                                  \n",
            " bidirectional_1 (Bidirectional  (None, 48)          29376       ['token_embedding[0][0]']        \n",
            " )                                                                                                \n",
            "                                                                                                  \n",
            " bidirectional_2 (Bidirectional  (None, 48)          9600        ['char_embed[1][0]']             \n",
            " )                                                                                                \n",
            "                                                                                                  \n",
            " char_token_hybrid_embedding (C  (None, 96)          0           ['bidirectional_1[0][0]',        \n",
            " oncatenate)                                                      'bidirectional_2[0][0]']        \n",
            "                                                                                                  \n",
            " line_number_input (InputLayer)  [(None, 15)]        0           []                               \n",
            "                                                                                                  \n",
            " total_lines_input (InputLayer)  [(None, 20)]        0           []                               \n",
            "                                                                                                  \n",
            " dense_6 (Dense)                (None, 256)          24832       ['char_token_hybrid_embedding[0][\n",
            "                                                                 0]']                             \n",
            "                                                                                                  \n",
            " dense_4 (Dense)                (None, 32)           512         ['line_number_input[0][0]']      \n",
            "                                                                                                  \n",
            " dense_5 (Dense)                (None, 32)           672         ['total_lines_input[0][0]']      \n",
            "                                                                                                  \n",
            " dropout_1 (Dropout)            (None, 256)          0           ['dense_6[0][0]']                \n",
            "                                                                                                  \n",
            " chat_token_positional_embeddin  (None, 320)         0           ['dense_4[0][0]',                \n",
            " g (Concatenate)                                                  'dense_5[0][0]',                \n",
            "                                                                  'dropout_1[0][0]']              \n",
            "                                                                                                  \n",
            " dense_7 (Dense)                (None, 128)          41088       ['chat_token_positional_embedding\n",
            "                                                                 [0][0]']                         \n",
            "                                                                                                  \n",
            " dropout_2 (Dropout)            (None, 128)          0           ['dense_7[0][0]']                \n",
            "                                                                                                  \n",
            " output_layer (Dense)           (None, 5)            645         ['dropout_2[0][0]']              \n",
            "                                                                                                  \n",
            "==================================================================================================\n",
            "Total params: 8,407,073\n",
            "Trainable params: 8,407,073\n",
            "Non-trainable params: 0\n",
            "__________________________________________________________________________________________________\n"
          ]
        }
      ]
    },
    {
      "cell_type": "code",
      "source": [
        "from keras.utils.vis_utils import plot_model\n",
        "plot_model(model_c_embed)"
      ],
      "metadata": {
        "colab": {
          "base_uri": "https://localhost:8080/",
          "height": 999
        },
        "id": "X3T2Z_i0T27k",
        "outputId": "69dfe1a6-2891-4d64-d03d-9705ff57d447"
      },
      "execution_count": 47,
      "outputs": [
        {
          "output_type": "execute_result",
          "data": {
            "image/png": "[encoded data removed]",
            "text/plain": [
              "<IPython.core.display.Image object>"
            ]
          },
          "metadata": {},
          "execution_count": 47
        }
      ]
    },
    {
      "cell_type": "code",
      "source": [
        "# Compiling the model\n",
        "model_c_embed.compile(loss=tf.losses.CategoricalCrossentropy(label_smoothing=0.2),\n",
        "                optimizer = tf.keras.optimizers.Adam(),\n",
        "                metrics=[\"accuracy\"])"
      ],
      "metadata": {
        "id": "xmtMZ7vaT25G"
      },
      "execution_count": 48,
      "outputs": []
    },
    {
      "cell_type": "code",
      "source": [
        "# Set checkpoint path\n",
        "checkpoint_path = \"/content/drive/MyDrive/SkimLit/model_c_embed/\"\n",
        "\n",
        "# Create a ModelCheckpoint callback that saves your model's weight\n",
        "checkpoint_callback = tf.keras.callbacks.ModelCheckpoint(filepath=checkpoint_path,\n",
        "                                                         save_weights_only=True,\n",
        "                                                         save_best_only=True,\n",
        "                                                         monitor=\"val_accuracy\",\n",
        "                                                         verbose=1)"
      ],
      "metadata": {
        "id": "6gUwn_ttT2z1"
      },
      "execution_count": 49,
      "outputs": []
    },
    {
      "cell_type": "code",
      "source": [
        "history_c_embed=model_c_embed.fit(train_char_token_pos_dataset,\n",
        "                    steps_per_epoch=len(train_char_token_pos_dataset),\n",
        "                    epochs=15,\n",
        "                    validation_data=val_char_token_pos_dataset,\n",
        "                    validation_steps=len(val_char_token_pos_dataset),\n",
        "                    callbacks=[checkpoint_callback])"
      ],
      "metadata": {
        "colab": {
          "base_uri": "https://localhost:8080/"
        },
        "id": "Tjig-xwVT2wq",
        "outputId": "a7678b9d-bef1-4434-c851-2659abcf0edd"
      },
      "execution_count": 50,
      "outputs": [
        {
          "output_type": "stream",
          "name": "stdout",
          "text": [
            "Epoch 1/15\n",
            "5627/5627 [==============================] - ETA: 0s - loss: 0.8910 - accuracy: 0.8578\n",
            "Epoch 1: val_accuracy improved from -inf to 0.88392, saving model to /content/drive/MyDrive/SkimLit/model_c_embed/\n",
            "5627/5627 [==============================] - 323s 55ms/step - loss: 0.8910 - accuracy: 0.8578 - val_loss: 0.8411 - val_accuracy: 0.8839\n",
            "Epoch 2/15\n",
            "5627/5627 [==============================] - ETA: 0s - loss: 0.8185 - accuracy: 0.9068\n",
            "Epoch 2: val_accuracy did not improve from 0.88392\n",
            "5627/5627 [==============================] - 304s 54ms/step - loss: 0.8185 - accuracy: 0.9068 - val_loss: 0.8474 - val_accuracy: 0.8791\n",
            "Epoch 3/15\n",
            "5627/5627 [==============================] - ETA: 0s - loss: 0.7781 - accuracy: 0.9365\n",
            "Epoch 3: val_accuracy did not improve from 0.88392\n",
            "5627/5627 [==============================] - 305s 54ms/step - loss: 0.7781 - accuracy: 0.9365 - val_loss: 0.8605 - val_accuracy: 0.8730\n",
            "Epoch 4/15\n",
            "5626/5627 [============================>.] - ETA: 0s - loss: 0.7484 - accuracy: 0.9571\n",
            "Epoch 4: val_accuracy did not improve from 0.88392\n",
            "5627/5627 [==============================] - 302s 54ms/step - loss: 0.7484 - accuracy: 0.9571 - val_loss: 0.8849 - val_accuracy: 0.8621\n",
            "Epoch 5/15\n",
            "5627/5627 [==============================] - ETA: 0s - loss: 0.7291 - accuracy: 0.9698\n",
            "Epoch 5: val_accuracy did not improve from 0.88392\n",
            "5627/5627 [==============================] - 302s 54ms/step - loss: 0.7291 - accuracy: 0.9698 - val_loss: 0.8932 - val_accuracy: 0.8640\n",
            "Epoch 6/15\n",
            "5627/5627 [==============================] - ETA: 0s - loss: 0.7178 - accuracy: 0.9765\n",
            "Epoch 6: val_accuracy did not improve from 0.88392\n",
            "5627/5627 [==============================] - 304s 54ms/step - loss: 0.7178 - accuracy: 0.9765 - val_loss: 0.9073 - val_accuracy: 0.8577\n",
            "Epoch 7/15\n",
            "5627/5627 [==============================] - ETA: 0s - loss: 0.7105 - accuracy: 0.9806\n",
            "Epoch 7: val_accuracy did not improve from 0.88392\n",
            "5627/5627 [==============================] - 307s 55ms/step - loss: 0.7105 - accuracy: 0.9806 - val_loss: 0.9056 - val_accuracy: 0.8595\n",
            "Epoch 8/15\n",
            "5627/5627 [==============================] - ETA: 0s - loss: 0.7054 - accuracy: 0.9832\n",
            "Epoch 8: val_accuracy did not improve from 0.88392\n",
            "5627/5627 [==============================] - 301s 54ms/step - loss: 0.7054 - accuracy: 0.9832 - val_loss: 0.9117 - val_accuracy: 0.8569\n",
            "Epoch 9/15\n",
            "5627/5627 [==============================] - ETA: 0s - loss: 0.7015 - accuracy: 0.9852\n",
            "Epoch 9: val_accuracy did not improve from 0.88392\n",
            "5627/5627 [==============================] - 301s 53ms/step - loss: 0.7015 - accuracy: 0.9852 - val_loss: 0.9233 - val_accuracy: 0.8540\n",
            "Epoch 10/15\n",
            "5627/5627 [==============================] - ETA: 0s - loss: 0.6984 - accuracy: 0.9867\n",
            "Epoch 10: val_accuracy did not improve from 0.88392\n",
            "5627/5627 [==============================] - 303s 54ms/step - loss: 0.6984 - accuracy: 0.9867 - val_loss: 0.9208 - val_accuracy: 0.8579\n",
            "Epoch 11/15\n",
            "5627/5627 [==============================] - ETA: 0s - loss: 0.6955 - accuracy: 0.9882\n",
            "Epoch 11: val_accuracy did not improve from 0.88392\n",
            "5627/5627 [==============================] - 300s 53ms/step - loss: 0.6955 - accuracy: 0.9882 - val_loss: 0.9315 - val_accuracy: 0.8537\n",
            "Epoch 12/15\n",
            "5626/5627 [============================>.] - ETA: 0s - loss: 0.6941 - accuracy: 0.9889\n",
            "Epoch 12: val_accuracy did not improve from 0.88392\n",
            "5627/5627 [==============================] - 303s 54ms/step - loss: 0.6941 - accuracy: 0.9889 - val_loss: 0.9292 - val_accuracy: 0.8545\n",
            "Epoch 13/15\n",
            "5626/5627 [============================>.] - ETA: 0s - loss: 0.6917 - accuracy: 0.9901\n",
            "Epoch 13: val_accuracy did not improve from 0.88392\n",
            "5627/5627 [==============================] - 301s 54ms/step - loss: 0.6917 - accuracy: 0.9901 - val_loss: 0.9271 - val_accuracy: 0.8529\n",
            "Epoch 14/15\n",
            "5627/5627 [==============================] - ETA: 0s - loss: 0.6904 - accuracy: 0.9905\n",
            "Epoch 14: val_accuracy did not improve from 0.88392\n",
            "5627/5627 [==============================] - 305s 54ms/step - loss: 0.6904 - accuracy: 0.9905 - val_loss: 0.9287 - val_accuracy: 0.8544\n",
            "Epoch 15/15\n",
            "5627/5627 [==============================] - ETA: 0s - loss: 0.6892 - accuracy: 0.9913\n",
            "Epoch 15: val_accuracy did not improve from 0.88392\n",
            "5627/5627 [==============================] - 301s 54ms/step - loss: 0.6892 - accuracy: 0.9913 - val_loss: 0.9321 - val_accuracy: 0.8536\n"
          ]
        }
      ]
    },
    {
      "cell_type": "code",
      "source": [
        "# Make predictions\n",
        "model_c_embed_pred_probs = model_c_embed.predict(test_char_token_pos_dataset, verbose = 1)\n",
        "model_c_embed_pred_probs, model_c_embed_pred_probs.shape\n",
        "# Convert pred probs to classes\n",
        "model_c_embed_preds = tf.argmax(model_c_embed_pred_probs, axis = 1)"
      ],
      "metadata": {
        "colab": {
          "base_uri": "https://localhost:8080/"
        },
        "id": "XqBD-GcJT2uN",
        "outputId": "f32d2090-fb71-4abb-a1c4-c8a1c97b9cf6"
      },
      "execution_count": 51,
      "outputs": [
        {
          "output_type": "stream",
          "name": "stdout",
          "text": [
            "942/942 [==============================] - 20s 16ms/step\n"
          ]
        }
      ]
    },
    {
      "cell_type": "code",
      "source": [
        "from helper_functions import calculate_results\n",
        "model_c_embed_results = calculate_results(test_labels_encoded, model_c_embed_preds)\n",
        "model_c_embed_results"
      ],
      "metadata": {
        "colab": {
          "base_uri": "https://localhost:8080/"
        },
        "id": "kjHUhJxqUUgK",
        "outputId": "c01257da-d79a-40a9-9414-020e72cd241c"
      },
      "execution_count": 52,
      "outputs": [
        {
          "output_type": "execute_result",
          "data": {
            "text/plain": [
              "{'accuracy': 84.9377799900448,\n",
              " 'precision': 0.848440975638071,\n",
              " 'recall': 0.849377799900448,\n",
              " 'f1': 0.8484264588080678}"
            ]
          },
          "metadata": {},
          "execution_count": 52
        }
      ]
    },
    {
      "cell_type": "code",
      "source": [
        "from helper_functions import plot_loss_curves\n",
        "plot_loss_curves(history_c_embed)"
      ],
      "metadata": {
        "id": "EB5Cb6BMjkNg"
      },
      "execution_count": null,
      "outputs": []
    },
    {
      "cell_type": "code",
      "source": [
        "# Save history and model \n",
        "import pickle\n",
        "with open('/content/drive/MyDrive/SkimLit/model_default/trainHistoryDict', 'wb') as file_pi:\n",
        "    pickle.dump(history_c_embed.history, file_pi)\n",
        "\n",
        "\n",
        "model_c_embed.save(\"/content/drive/MyDrive/SkimLit/model_c_embed/\")"
      ],
      "metadata": {
        "colab": {
          "base_uri": "https://localhost:8080/",
          "height": 239
        },
        "id": "2Wlrhl01UUbu",
        "outputId": "d6133e17-f9c8-4329-f95e-0d249819b733"
      },
      "execution_count": 53,
      "outputs": [
        {
          "output_type": "error",
          "ename": "IsADirectoryError",
          "evalue": "ignored",
          "traceback": [
            "\u001b[0;31m---------------------------------------------------------------------------\u001b[0m",
            "\u001b[0;31mIsADirectoryError\u001b[0m                         Traceback (most recent call last)",
            "\u001b[0;32m<ipython-input-53-91ac4731135d>\u001b[0m in \u001b[0;36m<module>\u001b[0;34m\u001b[0m\n\u001b[1;32m      1\u001b[0m \u001b[0;31m# Save history and model\u001b[0m\u001b[0;34m\u001b[0m\u001b[0;34m\u001b[0m\u001b[0;34m\u001b[0m\u001b[0m\n\u001b[1;32m      2\u001b[0m \u001b[0;32mimport\u001b[0m \u001b[0mpickle\u001b[0m\u001b[0;34m\u001b[0m\u001b[0;34m\u001b[0m\u001b[0m\n\u001b[0;32m----> 3\u001b[0;31m \u001b[0;32mwith\u001b[0m \u001b[0mopen\u001b[0m\u001b[0;34m(\u001b[0m\u001b[0;34m'/content/drive/MyDrive/SkimLit/model_default/'\u001b[0m\u001b[0;34m,\u001b[0m \u001b[0;34m'wb'\u001b[0m\u001b[0;34m)\u001b[0m \u001b[0;32mas\u001b[0m \u001b[0mfile_pi\u001b[0m\u001b[0;34m:\u001b[0m\u001b[0;34m\u001b[0m\u001b[0;34m\u001b[0m\u001b[0m\n\u001b[0m\u001b[1;32m      4\u001b[0m     \u001b[0mpickle\u001b[0m\u001b[0;34m.\u001b[0m\u001b[0mdump\u001b[0m\u001b[0;34m(\u001b[0m\u001b[0mhistory_c_embed\u001b[0m\u001b[0;34m.\u001b[0m\u001b[0mhistory\u001b[0m\u001b[0;34m,\u001b[0m \u001b[0mfile_pi\u001b[0m\u001b[0;34m)\u001b[0m\u001b[0;34m\u001b[0m\u001b[0;34m\u001b[0m\u001b[0m\n\u001b[1;32m      5\u001b[0m \u001b[0;34m\u001b[0m\u001b[0m\n",
            "\u001b[0;31mIsADirectoryError\u001b[0m: [Errno 21] Is a directory: '/content/drive/MyDrive/SkimLit/model_default/'"
          ]
        }
      ]
    }
  ],
  "metadata": {
    "accelerator": "GPU",
    "colab": {
      "provenance": [],
      "toc_visible": true,
      "include_colab_link": true
    },
    "gpuClass": "standard",
    "kernelspec": {
      "display_name": "test",
      "language": "python",
      "name": "python3"
    },
    "language_info": {
      "codemirror_mode": {
        "name": "ipython",
        "version": 3
      },
      "file_extension": ".py",
      "mimetype": "text/x-python",
      "name": "python",
      "nbconvert_exporter": "python",
      "pygments_lexer": "ipython3",
      "version": "3.6.13 |Anaconda, Inc.| (default, Mar 16 2021, 11:37:27) [MSC v.1916 64 bit (AMD64)]"
    },
    "vscode": {
      "interpreter": {
        "hash": "c885a82c4175e27dca39ef243f93ad5a15328ac197fc12036bdd5d976d667455"
      }
    }
  },
  "nbformat": 4,
  "nbformat_minor": 0
}